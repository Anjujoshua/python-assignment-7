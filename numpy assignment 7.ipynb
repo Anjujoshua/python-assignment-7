{
 "cells": [
  {
   "cell_type": "code",
   "execution_count": 1,
   "id": "8e33e4b2-a1f0-432f-bbf4-e3678a53a246",
   "metadata": {},
   "outputs": [
    {
     "name": "stdout",
     "output_type": "stream",
     "text": [
      "Requirement already satisfied: numpy in c:\\users\\anjua\\anaconda3\\lib\\site-packages (1.26.4)\n",
      "Note: you may need to restart the kernel to use updated packages.\n"
     ]
    }
   ],
   "source": [
    "pip install numpy\n"
   ]
  },
  {
   "cell_type": "code",
   "execution_count": 3,
   "id": "841ea5cb-4423-4823-8102-de46100bd4d2",
   "metadata": {},
   "outputs": [
    {
     "name": "stdout",
     "output_type": "stream",
     "text": [
      "[ 1  2  3  4  5  6  7  8  9 10]\n",
      "[[ 1  2  3  4  5]\n",
      " [ 6  7  8  9 10]]\n",
      "(2, 5)\n"
     ]
    }
   ],
   "source": [
    "import numpy as np\n",
    "a1=np.array([1,2,3,4,5,6,7,8,9,10])\n",
    "print(a1)\n",
    "new_array=a1.reshape(2,5)                  \n",
    "print(new_array)\n",
    "print(new_array.shape)"
   ]
  },
  {
   "cell_type": "code",
   "execution_count": 5,
   "id": "c5124e98-bd44-471b-97a6-8da5c15db581",
   "metadata": {},
   "outputs": [
    {
     "data": {
      "text/plain": [
       "(array([ 1,  2,  3,  4,  5,  6,  7,  8,  9, 10, 11, 12, 13, 14, 15, 16, 17,\n",
       "        18, 19, 20]),\n",
       " array([ 6,  7,  8,  9, 10, 11, 12, 13, 14, 15]))"
      ]
     },
     "execution_count": 5,
     "metadata": {},
     "output_type": "execute_result"
    }
   ],
   "source": [
    "array = np.arange(1, 21)\n",
    "array\n",
    "extracted_elements = array[5:15]\n",
    "array, extracted_elements"
   ]
  },
  {
   "cell_type": "code",
   "execution_count": 7,
   "id": "7ce28219-0402-4cae-be0f-27704987485b",
   "metadata": {},
   "outputs": [
    {
     "name": "stdout",
     "output_type": "stream",
     "text": [
      "apples     3\n",
      "bananas    2\n",
      "oranges    1\n",
      "dtype: int64\n"
     ]
    },
    {
     "data": {
      "text/plain": [
       "apples     3\n",
       "bananas    2\n",
       "oranges    1\n",
       "pears      4\n",
       "dtype: int64"
      ]
     },
     "execution_count": 7,
     "metadata": {},
     "output_type": "execute_result"
    }
   ],
   "source": [
    "import pandas as pd\n",
    "fruits = pd.Series({'apples': 3, 'bananas': 2, 'oranges': 1})\n",
    "print(fruits)\n",
    "# Adding a new item 'pears' with the value 4\n",
    "fruits['pears'] = 4\n",
    "fruits"
   ]
  },
  {
   "cell_type": "code",
   "execution_count": 13,
   "id": "ce95cbf4-9b28-478c-87c6-3c9e920c94a3",
   "metadata": {},
   "outputs": [
    {
     "data": {
      "text/html": [
       "<div>\n",
       "<style scoped>\n",
       "    .dataframe tbody tr th:only-of-type {\n",
       "        vertical-align: middle;\n",
       "    }\n",
       "\n",
       "    .dataframe tbody tr th {\n",
       "        vertical-align: top;\n",
       "    }\n",
       "\n",
       "    .dataframe thead th {\n",
       "        text-align: right;\n",
       "    }\n",
       "</style>\n",
       "<table border=\"1\" class=\"dataframe\">\n",
       "  <thead>\n",
       "    <tr style=\"text-align: right;\">\n",
       "      <th></th>\n",
       "      <th>name</th>\n",
       "      <th>age</th>\n",
       "      <th>gender</th>\n",
       "    </tr>\n",
       "  </thead>\n",
       "  <tbody>\n",
       "    <tr>\n",
       "      <th>1</th>\n",
       "      <td>Siva</td>\n",
       "      <td>26</td>\n",
       "      <td>female</td>\n",
       "    </tr>\n",
       "    <tr>\n",
       "      <th>2</th>\n",
       "      <td>Anju</td>\n",
       "      <td>25</td>\n",
       "      <td>female</td>\n",
       "    </tr>\n",
       "    <tr>\n",
       "      <th>3</th>\n",
       "      <td>Malu</td>\n",
       "      <td>24</td>\n",
       "      <td>female</td>\n",
       "    </tr>\n",
       "    <tr>\n",
       "      <th>4</th>\n",
       "      <td>sruthi</td>\n",
       "      <td>30</td>\n",
       "      <td>female</td>\n",
       "    </tr>\n",
       "    <tr>\n",
       "      <th>5</th>\n",
       "      <td>afsal</td>\n",
       "      <td>45</td>\n",
       "      <td>male</td>\n",
       "    </tr>\n",
       "    <tr>\n",
       "      <th>6</th>\n",
       "      <td>sabith</td>\n",
       "      <td>25</td>\n",
       "      <td>male</td>\n",
       "    </tr>\n",
       "    <tr>\n",
       "      <th>7</th>\n",
       "      <td>jenni</td>\n",
       "      <td>35</td>\n",
       "      <td>female</td>\n",
       "    </tr>\n",
       "    <tr>\n",
       "      <th>8</th>\n",
       "      <td>pranav</td>\n",
       "      <td>25</td>\n",
       "      <td>male</td>\n",
       "    </tr>\n",
       "    <tr>\n",
       "      <th>9</th>\n",
       "      <td>mittel</td>\n",
       "      <td>24</td>\n",
       "      <td>male</td>\n",
       "    </tr>\n",
       "    <tr>\n",
       "      <th>10</th>\n",
       "      <td>dhyan</td>\n",
       "      <td>29</td>\n",
       "      <td>female</td>\n",
       "    </tr>\n",
       "  </tbody>\n",
       "</table>\n",
       "</div>"
      ],
      "text/plain": [
       "      name  age  gender\n",
       "1     Siva   26  female\n",
       "2     Anju   25  female\n",
       "3     Malu   24  female\n",
       "4   sruthi   30  female\n",
       "5    afsal   45    male\n",
       "6   sabith   25    male\n",
       "7    jenni   35  female\n",
       "8   pranav   25    male\n",
       "9   mittel   24    male\n",
       "10   dhyan   29  female"
      ]
     },
     "execution_count": 13,
     "metadata": {},
     "output_type": "execute_result"
    }
   ],
   "source": [
    "import pandas as pd\n",
    "import numpy as np\n",
    "details= pd.DataFrame({\n",
    "    'name': [\"Siva\",\"Anju\",\"Malu\",\"sruthi\",\"afsal\",\"sabith\",\"jenni\",\"pranav\",\"mittel\",\"dhyan\"],\n",
    "    'age': [26,25,24,30,45,25,35,25,24,29],\n",
    "    'gender':[\"female\",\"female\",\"female\",\"female\",\"male\",\"male\",\"female\",\"male\",\"male\",\"female\"]\n",
    "    },columns=['name','age','gender'])\n",
    "\n",
    "details.index=[1,2,3,4,5,6,7,8,9,10]\n",
    "details"
   ]
  },
  {
   "cell_type": "code",
   "execution_count": 15,
   "id": "9ac80d10-aa9f-4fbb-9fb5-7b191a5a4eda",
   "metadata": {},
   "outputs": [
    {
     "data": {
      "text/html": [
       "<div>\n",
       "<style scoped>\n",
       "    .dataframe tbody tr th:only-of-type {\n",
       "        vertical-align: middle;\n",
       "    }\n",
       "\n",
       "    .dataframe tbody tr th {\n",
       "        vertical-align: top;\n",
       "    }\n",
       "\n",
       "    .dataframe thead th {\n",
       "        text-align: right;\n",
       "    }\n",
       "</style>\n",
       "<table border=\"1\" class=\"dataframe\">\n",
       "  <thead>\n",
       "    <tr style=\"text-align: right;\">\n",
       "      <th></th>\n",
       "      <th>name</th>\n",
       "      <th>age</th>\n",
       "      <th>gender</th>\n",
       "      <th>Occupation</th>\n",
       "    </tr>\n",
       "  </thead>\n",
       "  <tbody>\n",
       "    <tr>\n",
       "      <th>1</th>\n",
       "      <td>Siva</td>\n",
       "      <td>26</td>\n",
       "      <td>female</td>\n",
       "      <td>Programmer</td>\n",
       "    </tr>\n",
       "    <tr>\n",
       "      <th>2</th>\n",
       "      <td>Anju</td>\n",
       "      <td>25</td>\n",
       "      <td>female</td>\n",
       "      <td>Manager</td>\n",
       "    </tr>\n",
       "    <tr>\n",
       "      <th>3</th>\n",
       "      <td>Malu</td>\n",
       "      <td>24</td>\n",
       "      <td>female</td>\n",
       "      <td>Analyst</td>\n",
       "    </tr>\n",
       "    <tr>\n",
       "      <th>4</th>\n",
       "      <td>sruthi</td>\n",
       "      <td>30</td>\n",
       "      <td>female</td>\n",
       "      <td>Developer</td>\n",
       "    </tr>\n",
       "    <tr>\n",
       "      <th>5</th>\n",
       "      <td>afsal</td>\n",
       "      <td>45</td>\n",
       "      <td>male</td>\n",
       "      <td>Senior analyst</td>\n",
       "    </tr>\n",
       "    <tr>\n",
       "      <th>6</th>\n",
       "      <td>sabith</td>\n",
       "      <td>25</td>\n",
       "      <td>male</td>\n",
       "      <td>Marketing manager</td>\n",
       "    </tr>\n",
       "    <tr>\n",
       "      <th>7</th>\n",
       "      <td>jenni</td>\n",
       "      <td>35</td>\n",
       "      <td>female</td>\n",
       "      <td>Junior developer</td>\n",
       "    </tr>\n",
       "    <tr>\n",
       "      <th>8</th>\n",
       "      <td>pranav</td>\n",
       "      <td>25</td>\n",
       "      <td>male</td>\n",
       "      <td>Programmer</td>\n",
       "    </tr>\n",
       "    <tr>\n",
       "      <th>9</th>\n",
       "      <td>mittel</td>\n",
       "      <td>24</td>\n",
       "      <td>male</td>\n",
       "      <td>System analyst</td>\n",
       "    </tr>\n",
       "    <tr>\n",
       "      <th>10</th>\n",
       "      <td>dhyan</td>\n",
       "      <td>29</td>\n",
       "      <td>female</td>\n",
       "      <td>Business analyst</td>\n",
       "    </tr>\n",
       "  </tbody>\n",
       "</table>\n",
       "</div>"
      ],
      "text/plain": [
       "      name  age  gender         Occupation\n",
       "1     Siva   26  female         Programmer\n",
       "2     Anju   25  female            Manager\n",
       "3     Malu   24  female            Analyst\n",
       "4   sruthi   30  female          Developer\n",
       "5    afsal   45    male     Senior analyst\n",
       "6   sabith   25    male  Marketing manager\n",
       "7    jenni   35  female   Junior developer\n",
       "8   pranav   25    male         Programmer\n",
       "9   mittel   24    male     System analyst\n",
       "10   dhyan   29  female   Business analyst"
      ]
     },
     "execution_count": 15,
     "metadata": {},
     "output_type": "execute_result"
    }
   ],
   "source": [
    "details[\"Occupation\"] = [\"Programmer\", \"Manager\", \"Analyst\",\"Developer\",\"Senior analyst\",\n",
    "                         \"Marketing manager\",\"Junior developer\",\"Programmer\",\"System analyst\",\"Business analyst\"]\n",
    "details"
   ]
  },
  {
   "cell_type": "code",
   "execution_count": 17,
   "id": "f4d5ba35-d932-4a60-9844-b8ba6ae6d27c",
   "metadata": {},
   "outputs": [
    {
     "data": {
      "text/plain": [
       "1     False\n",
       "2     False\n",
       "3     False\n",
       "4      True\n",
       "5      True\n",
       "6     False\n",
       "7      True\n",
       "8     False\n",
       "9     False\n",
       "10    False\n",
       "Name: age, dtype: bool"
      ]
     },
     "execution_count": 17,
     "metadata": {},
     "output_type": "execute_result"
    }
   ],
   "source": [
    "details[\"age\"]>=30"
   ]
  },
  {
   "cell_type": "code",
   "execution_count": 19,
   "id": "b0e76400-33f8-41a2-b8d2-10ae8a49306b",
   "metadata": {},
   "outputs": [],
   "source": [
    "details.to_csv(\"final_details.csv\")\n",
    "\n",
    "data=pd.read_csv(\"final_details.csv\")"
   ]
  },
  {
   "cell_type": "code",
   "execution_count": 22,
   "id": "1611c80b-2b52-4445-bbc4-fda530eea0fa",
   "metadata": {},
   "outputs": [
    {
     "data": {
      "text/html": [
       "<div>\n",
       "<style scoped>\n",
       "    .dataframe tbody tr th:only-of-type {\n",
       "        vertical-align: middle;\n",
       "    }\n",
       "\n",
       "    .dataframe tbody tr th {\n",
       "        vertical-align: top;\n",
       "    }\n",
       "\n",
       "    .dataframe thead th {\n",
       "        text-align: right;\n",
       "    }\n",
       "</style>\n",
       "<table border=\"1\" class=\"dataframe\">\n",
       "  <thead>\n",
       "    <tr style=\"text-align: right;\">\n",
       "      <th></th>\n",
       "      <th>name</th>\n",
       "      <th>age</th>\n",
       "      <th>gender</th>\n",
       "      <th>Occupation</th>\n",
       "    </tr>\n",
       "  </thead>\n",
       "  <tbody>\n",
       "    <tr>\n",
       "      <th>1</th>\n",
       "      <td>Siva</td>\n",
       "      <td>26</td>\n",
       "      <td>female</td>\n",
       "      <td>Programmer</td>\n",
       "    </tr>\n",
       "    <tr>\n",
       "      <th>2</th>\n",
       "      <td>Anju</td>\n",
       "      <td>25</td>\n",
       "      <td>female</td>\n",
       "      <td>Manager</td>\n",
       "    </tr>\n",
       "    <tr>\n",
       "      <th>3</th>\n",
       "      <td>Malu</td>\n",
       "      <td>24</td>\n",
       "      <td>female</td>\n",
       "      <td>Analyst</td>\n",
       "    </tr>\n",
       "    <tr>\n",
       "      <th>4</th>\n",
       "      <td>sruthi</td>\n",
       "      <td>30</td>\n",
       "      <td>female</td>\n",
       "      <td>Developer</td>\n",
       "    </tr>\n",
       "    <tr>\n",
       "      <th>5</th>\n",
       "      <td>afsal</td>\n",
       "      <td>45</td>\n",
       "      <td>male</td>\n",
       "      <td>Senior analyst</td>\n",
       "    </tr>\n",
       "    <tr>\n",
       "      <th>6</th>\n",
       "      <td>sabith</td>\n",
       "      <td>25</td>\n",
       "      <td>male</td>\n",
       "      <td>Marketing manager</td>\n",
       "    </tr>\n",
       "    <tr>\n",
       "      <th>7</th>\n",
       "      <td>jenni</td>\n",
       "      <td>35</td>\n",
       "      <td>female</td>\n",
       "      <td>Junior developer</td>\n",
       "    </tr>\n",
       "    <tr>\n",
       "      <th>8</th>\n",
       "      <td>pranav</td>\n",
       "      <td>25</td>\n",
       "      <td>male</td>\n",
       "      <td>Programmer</td>\n",
       "    </tr>\n",
       "    <tr>\n",
       "      <th>9</th>\n",
       "      <td>mittel</td>\n",
       "      <td>24</td>\n",
       "      <td>male</td>\n",
       "      <td>System analyst</td>\n",
       "    </tr>\n",
       "    <tr>\n",
       "      <th>10</th>\n",
       "      <td>dhyan</td>\n",
       "      <td>29</td>\n",
       "      <td>female</td>\n",
       "      <td>Business analyst</td>\n",
       "    </tr>\n",
       "  </tbody>\n",
       "</table>\n",
       "</div>"
      ],
      "text/plain": [
       "      name  age  gender         Occupation\n",
       "1     Siva   26  female         Programmer\n",
       "2     Anju   25  female            Manager\n",
       "3     Malu   24  female            Analyst\n",
       "4   sruthi   30  female          Developer\n",
       "5    afsal   45    male     Senior analyst\n",
       "6   sabith   25    male  Marketing manager\n",
       "7    jenni   35  female   Junior developer\n",
       "8   pranav   25    male         Programmer\n",
       "9   mittel   24    male     System analyst\n",
       "10   dhyan   29  female   Business analyst"
      ]
     },
     "execution_count": 22,
     "metadata": {},
     "output_type": "execute_result"
    }
   ],
   "source": [
    "details"
   ]
  },
  {
   "cell_type": "code",
   "execution_count": null,
   "id": "0a9bfa13-0475-4e9f-a978-8fed31a8c145",
   "metadata": {},
   "outputs": [],
   "source": []
  }
 ],
 "metadata": {
  "kernelspec": {
   "display_name": "Python 3 (ipykernel)",
   "language": "python",
   "name": "python3"
  },
  "language_info": {
   "codemirror_mode": {
    "name": "ipython",
    "version": 3
   },
   "file_extension": ".py",
   "mimetype": "text/x-python",
   "name": "python",
   "nbconvert_exporter": "python",
   "pygments_lexer": "ipython3",
   "version": "3.12.7"
  }
 },
 "nbformat": 4,
 "nbformat_minor": 5
}
